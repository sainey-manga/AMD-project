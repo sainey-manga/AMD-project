{
  "nbformat": 4,
  "nbformat_minor": 0,
  "metadata": {
    "kernelspec": {
      "display_name": "Python 3 (ipykernel)",
      "language": "python",
      "name": "python3"
    },
    "language_info": {
      "codemirror_mode": {
        "name": "ipython",
        "version": 3
      },
      "file_extension": ".py",
      "mimetype": "text/x-python",
      "name": "python",
      "nbconvert_exporter": "python",
      "pygments_lexer": "ipython3",
      "version": "3.7.4"
    },
    "colab": {
      "name": "AMD.ipynb",
      "provenance": [],
      "include_colab_link": true
    }
  },
  "cells": [
    {
      "cell_type": "markdown",
      "metadata": {
        "id": "view-in-github",
        "colab_type": "text"
      },
      "source": [
        "<a href=\"https://colab.research.google.com/github/sainey-manga/AMD-project/blob/main/AMD.ipynb\" target=\"_parent\"><img src=\"https://colab.research.google.com/assets/colab-badge.svg\" alt=\"Open In Colab\"/></a>"
      ]
    },
    {
      "cell_type": "code",
      "metadata": {
        "colab": {
          "base_uri": "https://localhost:8080/"
        },
        "id": "r3Sfv7EkcaJI",
        "outputId": "3d8dbb0d-b857-48e8-eb6f-7069fad9ada4"
      },
      "source": [
        "!pip install pyspark"
      ],
      "execution_count": 7,
      "outputs": [
        {
          "output_type": "stream",
          "name": "stdout",
          "text": [
            "Collecting pyspark\n",
            "  Downloading pyspark-3.2.0.tar.gz (281.3 MB)\n",
            "\u001b[K     |████████████████████████████████| 281.3 MB 38 kB/s \n",
            "\u001b[?25hCollecting py4j==0.10.9.2\n",
            "  Downloading py4j-0.10.9.2-py2.py3-none-any.whl (198 kB)\n",
            "\u001b[K     |████████████████████████████████| 198 kB 63.1 MB/s \n",
            "\u001b[?25hBuilding wheels for collected packages: pyspark\n",
            "  Building wheel for pyspark (setup.py) ... \u001b[?25l\u001b[?25hdone\n",
            "  Created wheel for pyspark: filename=pyspark-3.2.0-py2.py3-none-any.whl size=281805912 sha256=bd2b3b5fa2536ce1812efbdbf94fca8144d623f6562335080e7da08349e486eb\n",
            "  Stored in directory: /root/.cache/pip/wheels/0b/de/d2/9be5d59d7331c6c2a7c1b6d1a4f463ce107332b1ecd4e80718\n",
            "Successfully built pyspark\n",
            "Installing collected packages: py4j, pyspark\n",
            "Successfully installed py4j-0.10.9.2 pyspark-3.2.0\n"
          ]
        }
      ]
    },
    {
      "cell_type": "code",
      "metadata": {
        "colab": {
          "resources": {
            "http://localhost:8080/nbextensions/google.colab/files.js": {
              "data": "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",
              "ok": true,
              "headers": [
                [
                  "content-type",
                  "application/javascript"
                ]
              ],
              "status": 200,
              "status_text": ""
            }
          },
          "base_uri": "https://localhost:8080/",
          "height": 89
        },
        "id": "esU0qoqFbBtO",
        "outputId": "b69ba3e9-2572-4d98-a270-98690c762923"
      },
      "source": [
        "from google.colab import files\n",
        "json_file = files.upload()\n",
        "!mkdir /root/.kaggle\n",
        "!mv kaggle.json /root/.kaggle/kaggle.json\n",
        "!chmod 600 /root/.kaggle/kaggle.json"
      ],
      "execution_count": 4,
      "outputs": [
        {
          "output_type": "display_data",
          "data": {
            "text/html": [
              "\n",
              "     <input type=\"file\" id=\"files-6274962c-c86e-4964-9b17-bdd2e72b8736\" name=\"files[]\" multiple disabled\n",
              "        style=\"border:none\" />\n",
              "     <output id=\"result-6274962c-c86e-4964-9b17-bdd2e72b8736\">\n",
              "      Upload widget is only available when the cell has been executed in the\n",
              "      current browser session. Please rerun this cell to enable.\n",
              "      </output>\n",
              "      <script src=\"/nbextensions/google.colab/files.js\"></script> "
            ],
            "text/plain": [
              "<IPython.core.display.HTML object>"
            ]
          },
          "metadata": {}
        },
        {
          "output_type": "stream",
          "name": "stdout",
          "text": [
            "Saving kaggle.json to kaggle (1).json\n",
            "mkdir: cannot create directory ‘/root/.kaggle’: File exists\n"
          ]
        }
      ]
    },
    {
      "cell_type": "code",
      "metadata": {
        "id": "ojNcIznaa3cp"
      },
      "source": [
        "import kaggle\n",
        "from kaggle.api.kaggle_api_extended import KaggleApi"
      ],
      "execution_count": 5,
      "outputs": []
    },
    {
      "cell_type": "code",
      "metadata": {
        "id": "ua3cbyvHa3cs"
      },
      "source": [
        "from pyspark.sql import SparkSession\n",
        "from pyspark import SparkConf, SparkContext\n",
        "from pyspark.sql import SQLContext"
      ],
      "execution_count": 8,
      "outputs": []
    },
    {
      "cell_type": "code",
      "metadata": {
        "colab": {
          "base_uri": "https://localhost:8080/"
        },
        "id": "l_HxmzSna3ct",
        "outputId": "ba32fae8-ad33-49a5-bd23-a000a4ef5642"
      },
      "source": [
        "conf = SparkConf().setAppName(\"MarketBasketAnalysis\")\n",
        "conf = (conf.setMaster('local[*]')\n",
        "        .set('spark.executor.memory', '8G')\n",
        "        .set('spark.driver.memory', '45G')\n",
        "        .set('spark.driver.maxResultSize', '0')\n",
        "        .set(\"spark.sql.execution.arrow.enabled\", \"true\"))\n",
        "sc = SparkContext.getOrCreate(conf=conf)\n",
        "spark = SQLContext(sc)"
      ],
      "execution_count": 9,
      "outputs": [
        {
          "output_type": "stream",
          "name": "stderr",
          "text": [
            "/usr/local/lib/python3.7/dist-packages/pyspark/sql/context.py:79: FutureWarning: Deprecated in 3.0.0. Use SparkSession.builder.getOrCreate() instead.\n",
            "  FutureWarning\n"
          ]
        }
      ]
    },
    {
      "cell_type": "code",
      "metadata": {
        "colab": {
          "base_uri": "https://localhost:8080/"
        },
        "id": "fUuHiOJsa3cu",
        "outputId": "8a01a242-15c9-4938-9e16-b4c7c114ff6c"
      },
      "source": [
        "!kaggle datasets download -d stackoverflow/stacksample -f Questions.csv --unzip -o\n",
        "!unzip Questions.csv.zip"
      ],
      "execution_count": 13,
      "outputs": [
        {
          "output_type": "stream",
          "name": "stdout",
          "text": [
            "Downloading Questions.csv.zip to /content\n",
            " 99% 582M/589M [00:03<00:00, 198MB/s]\n",
            "100% 589M/589M [00:03<00:00, 188MB/s]\n",
            "Archive:  Questions.csv.zip\n",
            "  inflating: Questions.csv           \n"
          ]
        }
      ]
    },
    {
      "cell_type": "code",
      "metadata": {
        "id": "HXIX3sW2a3cu"
      },
      "source": [
        "df = spark.read\\\n",
        "  .option(\"multiLine\", \"true\")\\\n",
        "  .option(\"header\", \"true\")\\\n",
        "  .option(\"escape\", \"\\\"\")\\\n",
        "  .csv(\"Questions.csv\")\\\n",
        "  .select(\"Id\",\"Body\")"
      ],
      "execution_count": 14,
      "outputs": []
    },
    {
      "cell_type": "code",
      "metadata": {
        "colab": {
          "base_uri": "https://localhost:8080/"
        },
        "id": "ysNUg3MHa3cv",
        "outputId": "1ccb0f59-c25a-44be-8b9c-d7a9d17ff458"
      },
      "source": [
        "df.show(10)"
      ],
      "execution_count": 15,
      "outputs": [
        {
          "output_type": "stream",
          "name": "stdout",
          "text": [
            "+---+--------------------+\n",
            "| Id|                Body|\n",
            "+---+--------------------+\n",
            "| 80|<p>I've written a...|\n",
            "| 90|<p>Are there any ...|\n",
            "|120|<p>Has anyone got...|\n",
            "|180|<p>This is someth...|\n",
            "|260|<p>I have a littl...|\n",
            "|330|<p>I am working o...|\n",
            "|470|<p>I've been writ...|\n",
            "|580|<p>I wonder how y...|\n",
            "|650|<p>I would like t...|\n",
            "|810|<p>I'm trying to ...|\n",
            "+---+--------------------+\n",
            "only showing top 10 rows\n",
            "\n"
          ]
        }
      ]
    },
    {
      "cell_type": "code",
      "metadata": {
        "colab": {
          "base_uri": "https://localhost:8080/"
        },
        "id": "On9Hx-Cda3cv",
        "outputId": "1e643bd8-0390-406e-999b-4db95ecc5e33"
      },
      "source": [
        "df.count()"
      ],
      "execution_count": 16,
      "outputs": [
        {
          "output_type": "execute_result",
          "data": {
            "text/plain": [
              "1264216"
            ]
          },
          "metadata": {},
          "execution_count": 16
        }
      ]
    },
    {
      "cell_type": "markdown",
      "metadata": {
        "id": "1Xidmf2ea3cw"
      },
      "source": [
        "# Data Cleaning"
      ]
    },
    {
      "cell_type": "markdown",
      "metadata": {
        "id": "fJZUDezfa3c1"
      },
      "source": [
        "The function clean_text is set up to revove unwanted characters from the the corpus"
      ]
    },
    {
      "cell_type": "code",
      "metadata": {
        "id": "wIwwslqya3c3"
      },
      "source": [
        "from pyspark.sql.functions import col, lower, regexp_replace, split"
      ],
      "execution_count": 17,
      "outputs": []
    },
    {
      "cell_type": "code",
      "metadata": {
        "id": "vDvOwFQ5a3c4"
      },
      "source": [
        "def clean_text(t):\n",
        "    t = lower(t)\n",
        "    t = regexp_replace(t, \"^rt \", \"\")\n",
        "    t = regexp_replace(t, \"<p>\", \"\")\n",
        "    t = regexp_replace(t, \"</p>\", \"\")\n",
        "    t = regexp_replace(t, \"(https?\\://)\\S+\", \"\")\n",
        "    t = regexp_replace(t, \"[^a-zA-Z0-9\\\\s]\", \"\")\n",
        "    return t\n",
        "\n",
        "clean_df = df.select('Id',clean_text(col(\"Body\")).alias(\"Body\"))"
      ],
      "execution_count": 18,
      "outputs": []
    },
    {
      "cell_type": "code",
      "metadata": {
        "colab": {
          "base_uri": "https://localhost:8080/"
        },
        "id": "mDDHFEJDa3c5",
        "outputId": "b2f9ee1b-49c5-4a98-fef9-03f53fd204a2"
      },
      "source": [
        "clean_df.show(10)"
      ],
      "execution_count": 19,
      "outputs": [
        {
          "output_type": "stream",
          "name": "stdout",
          "text": [
            "+---+--------------------+\n",
            "| Id|                Body|\n",
            "+---+--------------------+\n",
            "| 80|ive written a dat...|\n",
            "| 90|are there any rea...|\n",
            "|120|has anyone got ex...|\n",
            "|180|this is something...|\n",
            "|260|i have a little g...|\n",
            "|330|i am working on a...|\n",
            "|470|ive been writing ...|\n",
            "|580|i wonder how you ...|\n",
            "|650|i would like the ...|\n",
            "|810|im trying to main...|\n",
            "+---+--------------------+\n",
            "only showing top 10 rows\n",
            "\n"
          ]
        }
      ]
    },
    {
      "cell_type": "code",
      "metadata": {
        "id": "0c0mhmhPa3c6"
      },
      "source": [
        "from pyspark.ml.feature import RegexTokenizer\n",
        "from pyspark.ml.feature import StopWordsRemover"
      ],
      "execution_count": 20,
      "outputs": []
    },
    {
      "cell_type": "code",
      "metadata": {
        "colab": {
          "base_uri": "https://localhost:8080/"
        },
        "id": "0w_yUnHTa3c6",
        "outputId": "5399b4fa-86f1-4d08-aa04-38c7197e2b2f"
      },
      "source": [
        "tokenizer = RegexTokenizer(inputCol=\"Body\", outputCol=\"tokens\")\n",
        "tokenize_df = tokenizer.transform(clean_df)\n",
        "tokenize_df.show(10)"
      ],
      "execution_count": 21,
      "outputs": [
        {
          "output_type": "stream",
          "name": "stdout",
          "text": [
            "+---+--------------------+--------------------+\n",
            "| Id|                Body|              tokens|\n",
            "+---+--------------------+--------------------+\n",
            "| 80|ive written a dat...|[ive, written, a,...|\n",
            "| 90|are there any rea...|[are, there, any,...|\n",
            "|120|has anyone got ex...|[has, anyone, got...|\n",
            "|180|this is something...|[this, is, someth...|\n",
            "|260|i have a little g...|[i, have, a, litt...|\n",
            "|330|i am working on a...|[i, am, working, ...|\n",
            "|470|ive been writing ...|[ive, been, writi...|\n",
            "|580|i wonder how you ...|[i, wonder, how, ...|\n",
            "|650|i would like the ...|[i, would, like, ...|\n",
            "|810|im trying to main...|[im, trying, to, ...|\n",
            "+---+--------------------+--------------------+\n",
            "only showing top 10 rows\n",
            "\n"
          ]
        }
      ]
    },
    {
      "cell_type": "code",
      "metadata": {
        "colab": {
          "base_uri": "https://localhost:8080/"
        },
        "id": "KX6QzZ9Ma3c7",
        "outputId": "44cac373-9fd5-4e92-bf1e-0522d610c7d6"
      },
      "source": [
        "st_wrd_remover= StopWordsRemover(inputCol = 'tokens', outputCol = 'removed_st_wrd')\n",
        "final_df= st_wrd_remover.transform(tokenize_df)\n",
        "final_df.show(10)"
      ],
      "execution_count": 22,
      "outputs": [
        {
          "output_type": "stream",
          "name": "stdout",
          "text": [
            "+---+--------------------+--------------------+--------------------+\n",
            "| Id|                Body|              tokens|      removed_st_wrd|\n",
            "+---+--------------------+--------------------+--------------------+\n",
            "| 80|ive written a dat...|[ive, written, a,...|[ive, written, da...|\n",
            "| 90|are there any rea...|[are, there, any,...|[really, good, tu...|\n",
            "|120|has anyone got ex...|[has, anyone, got...|[anyone, got, exp...|\n",
            "|180|this is something...|[this, is, someth...|[something, ive, ...|\n",
            "|260|i have a little g...|[i, have, a, litt...|[little, game, wr...|\n",
            "|330|i am working on a...|[i, am, working, ...|[working, collect...|\n",
            "|470|ive been writing ...|[ive, been, writi...|[ive, writing, we...|\n",
            "|580|i wonder how you ...|[i, wonder, how, ...|[wonder, guys, ma...|\n",
            "|650|i would like the ...|[i, would, like, ...|[like, version, p...|\n",
            "|810|im trying to main...|[im, trying, to, ...|[im, trying, main...|\n",
            "+---+--------------------+--------------------+--------------------+\n",
            "only showing top 10 rows\n",
            "\n"
          ]
        }
      ]
    },
    {
      "cell_type": "markdown",
      "metadata": {
        "id": "VzGax6k9a3c8"
      },
      "source": [
        "# HASHING AND MODEL FITTING USING JACCARD DISTANCE"
      ]
    },
    {
      "cell_type": "code",
      "metadata": {
        "id": "WJYZXxbma3c8"
      },
      "source": [
        "from pyspark.ml import Pipeline\n",
        "from pyspark.ml.feature import HashingTF, MinHashLSH"
      ],
      "execution_count": 23,
      "outputs": []
    },
    {
      "cell_type": "code",
      "metadata": {
        "id": "uXI2i-0ua3c9"
      },
      "source": [
        "import time\n",
        "# track time\n",
        "start = time.time()\n",
        "\n",
        "# pipeline with sequence of tasks required to perform LSH with the Jaccard distance\n",
        "model = Pipeline(stages=[\n",
        "        HashingTF(inputCol=\"removed_st_wrd\", outputCol=\"vectors\"),\n",
        "        MinHashLSH(inputCol=\"vectors\", outputCol=\"hash\", seed=123)\n",
        "    ]).fit(final_df)\n",
        "\n",
        "df_hashed = model.transform(final_df)"
      ],
      "execution_count": 24,
      "outputs": []
    },
    {
      "cell_type": "code",
      "metadata": {
        "colab": {
          "base_uri": "https://localhost:8080/"
        },
        "id": "Xcxr83WOa3c9",
        "outputId": "6cdb30ae-7eaf-4003-b8c2-f10dbe590ace"
      },
      "source": [
        "df_hashed.show(10)"
      ],
      "execution_count": 25,
      "outputs": [
        {
          "output_type": "stream",
          "name": "stdout",
          "text": [
            "+---+--------------------+--------------------+--------------------+--------------------+---------------+\n",
            "| Id|                Body|              tokens|      removed_st_wrd|             vectors|           hash|\n",
            "+---+--------------------+--------------------+--------------------+--------------------+---------------+\n",
            "| 80|ive written a dat...|[ive, written, a,...|[ive, written, da...|(262144,[3564,461...|[[4.7238581E7]]|\n",
            "| 90|are there any rea...|[are, there, any,...|[really, good, tu...|(262144,[62427,68...|[[3.9862902E7]]|\n",
            "|120|has anyone got ex...|[has, anyone, got...|[anyone, got, exp...|(262144,[386,3564...|[[1.8689312E7]]|\n",
            "|180|this is something...|[this, is, someth...|[something, ive, ...|(262144,[10345,37...| [[4.027477E7]]|\n",
            "|260|i have a little g...|[i, have, a, litt...|[little, game, wr...|(262144,[5352,126...|[[1.2793449E7]]|\n",
            "|330|i am working on a...|[i, am, working, ...|[working, collect...|(262144,[8538,978...|[[4.1105192E7]]|\n",
            "|470|ive been writing ...|[ive, been, writi...|[ive, writing, we...|(262144,[9781,158...|[[9.3702936E7]]|\n",
            "|580|i wonder how you ...|[i, wonder, how, ...|[wonder, guys, ma...|(262144,[2306,298...|[[1.3542467E7]]|\n",
            "|650|i would like the ...|[i, would, like, ...|[like, version, p...|(262144,[11680,12...|[[7.2622284E7]]|\n",
            "|810|im trying to main...|[im, trying, to, ...|[im, trying, main...|(262144,[2259,126...|[[1.1757093E7]]|\n",
            "+---+--------------------+--------------------+--------------------+--------------------+---------------+\n",
            "only showing top 10 rows\n",
            "\n"
          ]
        }
      ]
    },
    {
      "cell_type": "code",
      "metadata": {
        "id": "Y3BTeCgSa3c-"
      },
      "source": [
        "from pyspark.sql.functions import size\n",
        "import pyspark.sql.functions as fun"
      ],
      "execution_count": 26,
      "outputs": []
    },
    {
      "cell_type": "code",
      "metadata": {
        "id": "Fd_oxZNTa3c-"
      },
      "source": [
        "sample= df_hashed.where((size(col(\"removed_st_wrd\")) >= 1)).limit(40000)"
      ],
      "execution_count": 27,
      "outputs": []
    },
    {
      "cell_type": "code",
      "metadata": {
        "colab": {
          "base_uri": "https://localhost:8080/"
        },
        "id": "FIR_1Olza3c_",
        "outputId": "b57cfdb4-3ffd-4c02-897d-bd839a9662af"
      },
      "source": [
        "sample.show(10)"
      ],
      "execution_count": 28,
      "outputs": [
        {
          "output_type": "stream",
          "name": "stdout",
          "text": [
            "+---+--------------------+--------------------+--------------------+--------------------+---------------+\n",
            "| Id|                Body|              tokens|      removed_st_wrd|             vectors|           hash|\n",
            "+---+--------------------+--------------------+--------------------+--------------------+---------------+\n",
            "| 80|ive written a dat...|[ive, written, a,...|[ive, written, da...|(262144,[3564,461...|[[4.7238581E7]]|\n",
            "| 90|are there any rea...|[are, there, any,...|[really, good, tu...|(262144,[62427,68...|[[3.9862902E7]]|\n",
            "|120|has anyone got ex...|[has, anyone, got...|[anyone, got, exp...|(262144,[386,3564...|[[1.8689312E7]]|\n",
            "|180|this is something...|[this, is, someth...|[something, ive, ...|(262144,[10345,37...| [[4.027477E7]]|\n",
            "|260|i have a little g...|[i, have, a, litt...|[little, game, wr...|(262144,[5352,126...|[[1.2793449E7]]|\n",
            "|330|i am working on a...|[i, am, working, ...|[working, collect...|(262144,[8538,978...|[[4.1105192E7]]|\n",
            "|470|ive been writing ...|[ive, been, writi...|[ive, writing, we...|(262144,[9781,158...|[[9.3702936E7]]|\n",
            "|580|i wonder how you ...|[i, wonder, how, ...|[wonder, guys, ma...|(262144,[2306,298...|[[1.3542467E7]]|\n",
            "|650|i would like the ...|[i, would, like, ...|[like, version, p...|(262144,[11680,12...|[[7.2622284E7]]|\n",
            "|810|im trying to main...|[im, trying, to, ...|[im, trying, main...|(262144,[2259,126...|[[1.1757093E7]]|\n",
            "+---+--------------------+--------------------+--------------------+--------------------+---------------+\n",
            "only showing top 10 rows\n",
            "\n"
          ]
        }
      ]
    },
    {
      "cell_type": "code",
      "metadata": {
        "colab": {
          "base_uri": "https://localhost:8080/"
        },
        "id": "3jyl1cm_a3c_",
        "outputId": "f0fde9cd-246a-43ec-e825-c0074f1c97cb"
      },
      "source": [
        "df_match = model.stages[-1].approxSimilarityJoin(sample, sample, 0.7)\n",
        "\n",
        "\n",
        "#show non-duplicate matches only\n",
        "df_match.select(fun.col('datasetA.id').alias('id_A'),\n",
        "                 fun.col('datasetB.id').alias('id_B'),\n",
        "                 fun.col('distCol')).filter('id_A < id_B').show()\n",
        "end = time.time()\n",
        "# return computational time needed to run the algorithm\n",
        "print(\"Computation performed in \" + str(round(end-start,2)) + \" seconds\")"
      ],
      "execution_count": 29,
      "outputs": [
        {
          "output_type": "stream",
          "name": "stderr",
          "text": [
            "/usr/local/lib/python3.7/dist-packages/pyspark/sql/context.py:127: FutureWarning: Deprecated in 3.0.0. Use SparkSession.builder.getOrCreate() instead.\n",
            "  FutureWarning\n"
          ]
        },
        {
          "output_type": "stream",
          "name": "stdout",
          "text": [
            "+-------+-------+------------------+\n",
            "|   id_A|   id_B|           distCol|\n",
            "+-------+-------+------------------+\n",
            "|  30800| 513330|0.6929133858267716|\n",
            "| 103460|1251620|0.6666666666666667|\n",
            "| 144530|1712670|0.6666666666666667|\n",
            "| 144530| 155780|0.6666666666666667|\n",
            "| 154630| 343230|             0.625|\n",
            "| 218450| 727180|0.6732673267326732|\n",
            "| 290080| 654450|           0.65625|\n",
            "| 344460| 344550|0.6415094339622642|\n",
            "| 406700| 844410|0.6923076923076923|\n",
            "| 446500| 446600|0.5714285714285714|\n",
            "| 503310| 835280|             0.375|\n",
            "| 606820| 623990|             0.625|\n",
            "| 612820| 634630|               0.5|\n",
            "| 741900| 994270|0.5714285714285714|\n",
            "| 897770| 905410|0.5061728395061729|\n",
            "|1006060| 676920|0.5555555555555556|\n",
            "|1107670|1107820|0.5866666666666667|\n",
            "|1192680|1479100|0.6666666666666667|\n",
            "|1257910|1544880|0.6944444444444444|\n",
            "|1287340| 647750|             0.625|\n",
            "+-------+-------+------------------+\n",
            "only showing top 20 rows\n",
            "\n",
            "Computation performed in 211.41 seconds\n"
          ]
        }
      ]
    },
    {
      "cell_type": "code",
      "metadata": {
        "colab": {
          "base_uri": "https://localhost:8080/"
        },
        "id": "1QZGOJBfa3dA",
        "outputId": "16f95505-154b-4763-9556-4bafd219be25"
      },
      "source": [
        "clean_df.where((col(\"id\") == 612820) | (col(\"id\") == 634630)).show(truncate=False)"
      ],
      "execution_count": 30,
      "outputs": [
        {
          "output_type": "stream",
          "name": "stdout",
          "text": [
            "+------+------------------------------------------------------------------------------------------------------------------------------------------------------------------------------------------------------------------------------------------------------------------------------------------------------------------------------------------------------------------------------------------------------------------------------------------------------------------------------------------------------------------------------------------------------------------------------------------------------------------------------------------------------------------------------------------------------------------------------------------------------------------------------------------------------------------------------------------------------------------------------------------------------------------------------------------------------------------------------------------------------------------------------------------------------------------------------------------------------------------------------------------------------------------------------------------------------------------------------------------------------------------------------------------------------------------------------------------------------------------------------------------------------------------------------------------------------------------------------------------------------------------------------------------------------------------------------------------------------------------------------------------------------------------------------------------------------------------------------------------------------------------------------------------------------------------------------------------------------------+\n",
            "|Id    |Body                                                                                                                                                                                                                                                                                                                                                                                                                                                                                                                                                                                                                                                                                                                                                                                                                                                                                                                                                                                                                                                                                                                                                                                                                                                                                                                                                                                                                                                                                                                                                                                                                                                                                                                                                                                                                                                        |\n",
            "+------+------------------------------------------------------------------------------------------------------------------------------------------------------------------------------------------------------------------------------------------------------------------------------------------------------------------------------------------------------------------------------------------------------------------------------------------------------------------------------------------------------------------------------------------------------------------------------------------------------------------------------------------------------------------------------------------------------------------------------------------------------------------------------------------------------------------------------------------------------------------------------------------------------------------------------------------------------------------------------------------------------------------------------------------------------------------------------------------------------------------------------------------------------------------------------------------------------------------------------------------------------------------------------------------------------------------------------------------------------------------------------------------------------------------------------------------------------------------------------------------------------------------------------------------------------------------------------------------------------------------------------------------------------------------------------------------------------------------------------------------------------------------------------------------------------------------------------------------------------------+\n",
            "|612820|i have a property grid that helps me manage all of the controls on a form these controls are for designertype folks so im not really worried that much about the user interface until someone selects multiple objects\\n\\ni have a uitypeeditor for the bottomdiameter property on these common objects it keeps track of units meters vs feet and does some nice things onthefly however when someone selects two or three common objects bottomdiameter is blank even though it evaluates to the same text string\\n\\nthe reason i think that it is blank is that it is actually three separate objdiameter objects how can i tell the property grid to behave like all of the other properties and show the value if it evaluates to the same string\\n\\nupdate for example the anchor property has a text output of top right but when you pull it down it is an object yet when you select five objects on your form that all have the same anchor setting you can still see the string top right in the property grid\\n                                                                                                                                                                                                                                                                                                                                                                                                                                                                                                                                                                                                                                                                                                                                                                                                                                 |\n",
            "|634630|i have a property grid that helps me manage all of the controls on a form these controls are for designertype folks so im not really worried that much about the user interface until someone selects multiple objects\\n\\ni have a uitypeeditor for the effectivediameter property on these common objects it keeps track of units meters vs feet and does some nice things onthefly however when someone selects two or three common objects effectivediameter is blank even though it evaluates to the same text string\\n\\nfor example in most controls microsoft has the anchor property that has a text output of top right when you pull it down it is an object with a nice uitypeeditor yet when you select five objects on your form that all have the same anchor setting you can still see the string top right in the property grid\\n\\ncode\\n\\nprecode ltsummarygt\\n the default containing class for all unitmanagement conversion classes\\n ltsummarygt\\n\\n serializable\\n editorattributetypeofumconversiontypeeditor typeofuitypeeditor\\n typeconvertertypeofumconversiontypeconverter\\n\\npublic class umconversion\\n\\n    \\n\\n\\n\\npublic class umconversiontypeeditor  uitypeeditor\\n\\n    \\n\\n\\n\\n\\n now in my designer class i have \\nprivate double effectivediameter  get set \\n\\ndisplaynameeffective diameter\\npublic virtual umconversion effectivediameter\\n\\n    get\\n    \\n            umconversion ret  new umconversion effectivediameter\\n            retmeasureinsi  si\\n            return ret\\n        \\n        set\\n        \\n           effectivediameter  valueimperialunits\\n        \\n    \\n\\ncodepre\\n\\ncode\\n\\nif i select several of my custom objects  all with the same effective diameter  how do i get effectivediameter to display in the propertygrid like anchor does right now that field is always blank\\n|\n",
            "+------+------------------------------------------------------------------------------------------------------------------------------------------------------------------------------------------------------------------------------------------------------------------------------------------------------------------------------------------------------------------------------------------------------------------------------------------------------------------------------------------------------------------------------------------------------------------------------------------------------------------------------------------------------------------------------------------------------------------------------------------------------------------------------------------------------------------------------------------------------------------------------------------------------------------------------------------------------------------------------------------------------------------------------------------------------------------------------------------------------------------------------------------------------------------------------------------------------------------------------------------------------------------------------------------------------------------------------------------------------------------------------------------------------------------------------------------------------------------------------------------------------------------------------------------------------------------------------------------------------------------------------------------------------------------------------------------------------------------------------------------------------------------------------------------------------------------------------------------------------------+\n",
            "\n"
          ]
        }
      ]
    },
    {
      "cell_type": "code",
      "metadata": {
        "colab": {
          "base_uri": "https://localhost:8080/"
        },
        "id": "v3g6Bewna3dA",
        "outputId": "a051e079-838a-4c87-db6e-6114eec09fa7"
      },
      "source": [
        "clean_df.where((col(\"id\") == 30800) | (col(\"id\") == 513330)).show(truncate=False)"
      ],
      "execution_count": 31,
      "outputs": [
        {
          "output_type": "stream",
          "name": "stdout",
          "text": [
            "+------+------------------------------------------------------------------------------------------------------------------------------------------------------------------------------------------------------------------------------------------------------------------------------------------------------------------------------------------------------------------------------------------------------------------------------------------------------------------------------------------------------------------------------------------------------------------------------------------------------------------------------------------------------------------------------------------------------------------------------------------------------------------------------------------------------------------------------------------------------------------------------------------------------------------------------------------------------------------------------------------------------------------------------------------------------------------------------------------------------------------------------------------------------------------------------------------------------------------------------------------------------------------------------------------------------------------------------------------------------------------------------------------------------------------------------------------------------------------------------------------------------------------------------------------------------------------------------------------------------------------------------------------------------------------------------------------------------------------------------------------------------------------------------------------------------------------------------------------------------------------------------------------------------------------------------------------------------------------------------------------------------------------------------------------------------------------------------------------------------------------------------------------------------------------------------------------------------------------------------------------------------------------+\n",
            "|Id    |Body                                                                                                                                                                                                                                                                                                                                                                                                                                                                                                                                                                                                                                                                                                                                                                                                                                                                                                                                                                                                                                                                                                                                                                                                                                                                                                                                                                                                                                                                                                                                                                                                                                                                                                                                                                                                                                                                                                                                                                                                                                                                                                                                                                                                                                                              |\n",
            "+------+------------------------------------------------------------------------------------------------------------------------------------------------------------------------------------------------------------------------------------------------------------------------------------------------------------------------------------------------------------------------------------------------------------------------------------------------------------------------------------------------------------------------------------------------------------------------------------------------------------------------------------------------------------------------------------------------------------------------------------------------------------------------------------------------------------------------------------------------------------------------------------------------------------------------------------------------------------------------------------------------------------------------------------------------------------------------------------------------------------------------------------------------------------------------------------------------------------------------------------------------------------------------------------------------------------------------------------------------------------------------------------------------------------------------------------------------------------------------------------------------------------------------------------------------------------------------------------------------------------------------------------------------------------------------------------------------------------------------------------------------------------------------------------------------------------------------------------------------------------------------------------------------------------------------------------------------------------------------------------------------------------------------------------------------------------------------------------------------------------------------------------------------------------------------------------------------------------------------------------------------------------------+\n",
            "|30800 |what is the best approach to make sure you only need to authenticate once when using an api built on wcf\\n\\nmy current bindings and behaviors are listed below\\n\\nprecode\\tltbindingsgt\\n\\t\\tltwshttpbindinggt\\n\\t\\t\\tltbinding namewshttpgt\\n\\t\\t\\t\\tltsecurity modetransportwithmessagecredentialgt\\n\\t\\t\\t\\t\\tlttransportgt\\n\\t\\t\\t\\t\\tltmessage clientcredentialtypeusername negotiateservicecredentialfalse establishsecuritycontexttruegt\\n\\t\\t\\t\\tltsecuritygt\\n\\t\\t\\tltbindinggt\\n\\t\\tltwshttpbindinggt\\n\\tltbindingsgt\\n\\tltbehaviorsgt\\n\\t\\tltservicebehaviorsgt\\n\\t\\t\\tltbehavior namenorthwindbehaviorgt\\n\\t\\t\\t\\tltservicemetadata httpgetenabledtruegt\\n\\t\\t\\t\\tltserviceauthorization principalpermissionmodeuseaspnetrolesgt\\n\\t\\t\\t\\tltservicecredentialsgt\\n\\t\\t\\t\\t\\tltusernameauthentication usernamepasswordvalidationmodemembershipprovidergt\\n\\t\\t\\t\\tltservicecredentialsgt\\n\\t\\t\\tltbehaviorgt\\n\\t\\tltservicebehaviorsgt\\n\\tltbehaviorsgt\\ncodepre\\n\\nstrongnext is what i am using in my client app to authenticate currently i must do this everytime i want to make a call into wcfstrong\\n\\nprecodedim client as productserviceclient  new productserviceclientwshttpproductservice\\nclientclientcredentialsusernameusername  foo\\nclientclientcredentialsusernamepassword  bar\\ndim productlist as listof product  clientgetproducts\\ncodepre\\n\\nwhat i would like to do is auth w the api once using these credentials then get some type of token for the period of time my client application is using the web service project  i thought establishsecuritycontexttrue did this for me\\n                                                                                                                                                                                                                                                                                                                                                                                                                                                                                                                                                                                                                                         |\n",
            "|513330|i have a generic proof of concept wcf service that is using forms authentication to secure access  all works great when my client is net vb code below\\n\\nprecodedim client as supplierserviceclient  new supplierserviceclient\\nclientclientcredentialsusernameusername  xxxxxxxxxxx\\nclientclientcredentialsusernamepassword  password\\n\\ndim supplierlist as listof supplier  clientgetsuppliers\\ncodepre\\n\\nbut as i want this to interop w anyone who can do soap 1112  how would a php or java client connect\\n\\nmy wcf webconfig is listed below fyi\\n\\nprecodeltsystemservicemodelgt\\n\\tltservicesgt\\n\\t\\tltservice namesampleapplicationwcflibrarysupplierservice behaviorconfigurationnorthwindbehaviorgt\\n\\t\\t\\tltendpoint address namewshttpsupplierservice contractsampleapplicationwcflibraryisupplierservice bindingwshttpbinding bindingconfigurationwshttpgt\\n\\t\\t\\tltendpoint address namebasichttpsupplierservice contractsampleapplicationwcflibraryisupplierservice bindingbasichttpbinding bindingconfigurationbasichttpgt\\n\\t\\t\\tltendpoint contractimetadataexchange bindingmexhttpbinding addressmexgt\\n\\t\\tltservicegt\\n\\tltservicesgt\\n\\tltbindingsgt\\n\\t\\tltwshttpbindinggt\\n\\t\\t\\tltbinding namewshttpgt\\n\\t\\t\\t\\tltsecurity modetransportwithmessagecredentialgt\\n\\t\\t\\t\\t\\tlttransportgt\\n\\t\\t\\t\\t\\tltmessage clientcredentialtypeusername negotiateservicecredentialfalse establishsecuritycontexttruegt\\n\\t\\t\\t\\tltsecuritygt\\n\\t\\t\\tltbindinggt\\n\\t\\tltwshttpbindinggt\\n\\t\\tltbasichttpbindinggt\\n\\t\\t\\tltbinding namebasichttpgt\\n\\t\\t\\t\\tltsecurity modetransportwithmessagecredentialgt\\n\\t\\t\\t\\t\\tlttransportgt\\n\\t\\t\\t\\t\\tltmessage clientcredentialtypeusernamegt\\n\\t\\t\\t\\tltsecuritygt\\n\\t\\t\\tltbindinggt\\n\\t\\tltbasichttpbindinggt\\n\\tltbindingsgt\\n\\tltbehaviorsgt\\n\\t\\tltservicebehaviorsgt\\n\\t\\t\\tltbehavior namenorthwindbehaviorgt\\n\\t\\t\\t\\tltservicemetadata httpgetenabledtruegt\\n\\t\\t\\t\\tltserviceauthorization principalpermissionmodeuseaspnetrolesgt\\n\\t\\t\\t\\tltservicecredentialsgt\\n\\t\\t\\t\\t\\tltusernameauthentication usernamepasswordvalidationmodemembershipprovidergt\\n\\t\\t\\t\\tltservicecredentialsgt\\n\\t\\t\\tltbehaviorgt\\n\\t\\tltservicebehaviorsgt\\n\\tltbehaviorsgt\\nltsystemservicemodelgt\\ncodepre\\n|\n",
            "+------+------------------------------------------------------------------------------------------------------------------------------------------------------------------------------------------------------------------------------------------------------------------------------------------------------------------------------------------------------------------------------------------------------------------------------------------------------------------------------------------------------------------------------------------------------------------------------------------------------------------------------------------------------------------------------------------------------------------------------------------------------------------------------------------------------------------------------------------------------------------------------------------------------------------------------------------------------------------------------------------------------------------------------------------------------------------------------------------------------------------------------------------------------------------------------------------------------------------------------------------------------------------------------------------------------------------------------------------------------------------------------------------------------------------------------------------------------------------------------------------------------------------------------------------------------------------------------------------------------------------------------------------------------------------------------------------------------------------------------------------------------------------------------------------------------------------------------------------------------------------------------------------------------------------------------------------------------------------------------------------------------------------------------------------------------------------------------------------------------------------------------------------------------------------------------------------------------------------------------------------------------------------+\n",
            "\n"
          ]
        }
      ]
    },
    {
      "cell_type": "code",
      "metadata": {
        "colab": {
          "base_uri": "https://localhost:8080/"
        },
        "id": "udOvu8cba3dA",
        "outputId": "913c7854-8205-4507-c498-3fbeeee697e7"
      },
      "source": [
        "clean_df.where((col(\"id\") == 503310) | (col(\"id\") == 835280)).show(truncate=False)"
      ],
      "execution_count": 32,
      "outputs": [
        {
          "output_type": "stream",
          "name": "stdout",
          "text": [
            "+------+-------------------------------------------------------------------+\n",
            "|Id    |Body                                                               |\n",
            "+------+-------------------------------------------------------------------+\n",
            "|503310|is it possible to map an enum as a string using fluent nhibernate\\n|\n",
            "|835280|its possible to map a view using fluent nhibernate if so how\\n     |\n",
            "+------+-------------------------------------------------------------------+\n",
            "\n"
          ]
        }
      ]
    },
    {
      "cell_type": "code",
      "metadata": {
        "id": "JKPSiN4ya3dB"
      },
      "source": [
        ""
      ],
      "execution_count": null,
      "outputs": []
    }
  ]
}